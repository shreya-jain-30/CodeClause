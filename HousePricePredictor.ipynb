{
 "cells": [
  {
   "cell_type": "code",
   "execution_count": 2,
   "id": "47c0e33b-a4b1-4cb9-a2b3-100c55cdbf1f",
   "metadata": {},
   "outputs": [],
   "source": [
    "import numpy as np\n",
    "import pandas as pd\n",
    "import matplotlib.pyplot as plt\n",
    "import seaborn as sns"
   ]
  },
  {
   "cell_type": "code",
   "execution_count": 42,
   "id": "d1bd8b3d-9fa1-4d67-bcc3-c9de0f266b3e",
   "metadata": {},
   "outputs": [],
   "source": [
    "from sklearn.model_selection import train_test_split\n",
    "from sklearn.linear_model import LinearRegression\n",
    "from sklearn.preprocessing import StandardScaler\n",
    "from sklearn.compose import make_column_transformer\n",
    "from sklearn.pipeline import make_pipeline\n",
    "from sklearn.metrics import r2_score"
   ]
  },
  {
   "cell_type": "code",
   "execution_count": 61,
   "id": "7d37e582-6f26-40c7-9cb0-2e258fd3b8bf",
   "metadata": {},
   "outputs": [],
   "source": [
    "from sklearn.compose import ColumnTransformer"
   ]
  },
  {
   "cell_type": "code",
   "execution_count": 3,
   "id": "aa7ac805-16e6-4c78-a9af-2f2096d1240b",
   "metadata": {},
   "outputs": [],
   "source": [
    "from sklearn.preprocessing import OneHotEncoder"
   ]
  },
  {
   "cell_type": "code",
   "execution_count": 4,
   "id": "c6145754-2848-4e52-82f4-b2c190a3cecf",
   "metadata": {},
   "outputs": [
    {
     "data": {
      "text/html": [
       "<div>\n",
       "<style scoped>\n",
       "    .dataframe tbody tr th:only-of-type {\n",
       "        vertical-align: middle;\n",
       "    }\n",
       "\n",
       "    .dataframe tbody tr th {\n",
       "        vertical-align: top;\n",
       "    }\n",
       "\n",
       "    .dataframe thead th {\n",
       "        text-align: right;\n",
       "    }\n",
       "</style>\n",
       "<table border=\"1\" class=\"dataframe\">\n",
       "  <thead>\n",
       "    <tr style=\"text-align: right;\">\n",
       "      <th></th>\n",
       "      <th>area_type</th>\n",
       "      <th>availability</th>\n",
       "      <th>location</th>\n",
       "      <th>size</th>\n",
       "      <th>society</th>\n",
       "      <th>total_sqft</th>\n",
       "      <th>bath</th>\n",
       "      <th>balcony</th>\n",
       "      <th>price</th>\n",
       "    </tr>\n",
       "  </thead>\n",
       "  <tbody>\n",
       "    <tr>\n",
       "      <th>1584</th>\n",
       "      <td>Super built-up  Area</td>\n",
       "      <td>19-Dec</td>\n",
       "      <td>Hoodi</td>\n",
       "      <td>3 BHK</td>\n",
       "      <td>Caycend</td>\n",
       "      <td>1512</td>\n",
       "      <td>3.0</td>\n",
       "      <td>2.0</td>\n",
       "      <td>75.77</td>\n",
       "    </tr>\n",
       "    <tr>\n",
       "      <th>7914</th>\n",
       "      <td>Super built-up  Area</td>\n",
       "      <td>Ready To Move</td>\n",
       "      <td>Somasundara Palya</td>\n",
       "      <td>3 BHK</td>\n",
       "      <td>NaN</td>\n",
       "      <td>1275</td>\n",
       "      <td>2.0</td>\n",
       "      <td>2.0</td>\n",
       "      <td>52.00</td>\n",
       "    </tr>\n",
       "    <tr>\n",
       "      <th>1883</th>\n",
       "      <td>Super built-up  Area</td>\n",
       "      <td>Ready To Move</td>\n",
       "      <td>Sector 2 HSR Layout</td>\n",
       "      <td>3 BHK</td>\n",
       "      <td>NCdgerj</td>\n",
       "      <td>1450</td>\n",
       "      <td>2.0</td>\n",
       "      <td>2.0</td>\n",
       "      <td>135.00</td>\n",
       "    </tr>\n",
       "    <tr>\n",
       "      <th>8520</th>\n",
       "      <td>Super built-up  Area</td>\n",
       "      <td>Ready To Move</td>\n",
       "      <td>Parappana Agrahara</td>\n",
       "      <td>2 BHK</td>\n",
       "      <td>Peide L</td>\n",
       "      <td>1194</td>\n",
       "      <td>2.0</td>\n",
       "      <td>2.0</td>\n",
       "      <td>47.00</td>\n",
       "    </tr>\n",
       "    <tr>\n",
       "      <th>2368</th>\n",
       "      <td>Plot  Area</td>\n",
       "      <td>Ready To Move</td>\n",
       "      <td>Bileshivale</td>\n",
       "      <td>5 Bedroom</td>\n",
       "      <td>LGDewke</td>\n",
       "      <td>6040</td>\n",
       "      <td>4.0</td>\n",
       "      <td>NaN</td>\n",
       "      <td>170.00</td>\n",
       "    </tr>\n",
       "  </tbody>\n",
       "</table>\n",
       "</div>"
      ],
      "text/plain": [
       "                 area_type   availability             location       size  \\\n",
       "1584  Super built-up  Area         19-Dec                Hoodi      3 BHK   \n",
       "7914  Super built-up  Area  Ready To Move    Somasundara Palya      3 BHK   \n",
       "1883  Super built-up  Area  Ready To Move  Sector 2 HSR Layout      3 BHK   \n",
       "8520  Super built-up  Area  Ready To Move   Parappana Agrahara      2 BHK   \n",
       "2368            Plot  Area  Ready To Move          Bileshivale  5 Bedroom   \n",
       "\n",
       "      society total_sqft  bath  balcony   price  \n",
       "1584  Caycend       1512   3.0      2.0   75.77  \n",
       "7914      NaN       1275   2.0      2.0   52.00  \n",
       "1883  NCdgerj       1450   2.0      2.0  135.00  \n",
       "8520  Peide L       1194   2.0      2.0   47.00  \n",
       "2368  LGDewke       6040   4.0      NaN  170.00  "
      ]
     },
     "execution_count": 4,
     "metadata": {},
     "output_type": "execute_result"
    }
   ],
   "source": [
    "df=pd.read_csv('Bengaluru_House_Data.csv')\n",
    "df.sample(5)"
   ]
  },
  {
   "cell_type": "code",
   "execution_count": 5,
   "id": "0fea0658-0d2b-4f09-a02d-de454fcc690e",
   "metadata": {},
   "outputs": [
    {
     "name": "stdout",
     "output_type": "stream",
     "text": [
      "area_type\n",
      "Super built-up  Area    8790\n",
      "Built-up  Area          2418\n",
      "Plot  Area              2025\n",
      "Carpet  Area              87\n",
      "Name: count, dtype: int64\n",
      "........................\n",
      "availability\n",
      "Ready To Move    10581\n",
      "18-Dec             307\n",
      "18-May             295\n",
      "18-Apr             271\n",
      "18-Aug             200\n",
      "                 ...  \n",
      "15-Aug               1\n",
      "17-Jan               1\n",
      "16-Nov               1\n",
      "16-Jan               1\n",
      "14-Jul               1\n",
      "Name: count, Length: 81, dtype: int64\n",
      "........................\n",
      "location\n",
      "Whitefield                        540\n",
      "Sarjapur  Road                    399\n",
      "Electronic City                   302\n",
      "Kanakpura Road                    273\n",
      "Thanisandra                       234\n",
      "                                 ... \n",
      "Bapuji Layout                       1\n",
      "1st Stage Radha Krishna Layout      1\n",
      "BEML Layout 5th stage               1\n",
      "singapura paradise                  1\n",
      "Abshot Layout                       1\n",
      "Name: count, Length: 1305, dtype: int64\n",
      "........................\n",
      "size\n",
      "2 BHK         5199\n",
      "3 BHK         4310\n",
      "4 Bedroom      826\n",
      "4 BHK          591\n",
      "3 Bedroom      547\n",
      "1 BHK          538\n",
      "2 Bedroom      329\n",
      "5 Bedroom      297\n",
      "6 Bedroom      191\n",
      "1 Bedroom      105\n",
      "8 Bedroom       84\n",
      "7 Bedroom       83\n",
      "5 BHK           59\n",
      "9 Bedroom       46\n",
      "6 BHK           30\n",
      "7 BHK           17\n",
      "1 RK            13\n",
      "10 Bedroom      12\n",
      "9 BHK            8\n",
      "8 BHK            5\n",
      "11 BHK           2\n",
      "11 Bedroom       2\n",
      "10 BHK           2\n",
      "14 BHK           1\n",
      "13 BHK           1\n",
      "12 Bedroom       1\n",
      "27 BHK           1\n",
      "43 Bedroom       1\n",
      "16 BHK           1\n",
      "19 BHK           1\n",
      "18 Bedroom       1\n",
      "Name: count, dtype: int64\n",
      "........................\n",
      "society\n",
      "GrrvaGr    80\n",
      "PrarePa    76\n",
      "Sryalan    59\n",
      "Prtates    59\n",
      "GMown E    56\n",
      "           ..\n",
      "Amionce     1\n",
      "JaghtDe     1\n",
      "Jauraht     1\n",
      "Brity U     1\n",
      "RSntsAp     1\n",
      "Name: count, Length: 2688, dtype: int64\n",
      "........................\n",
      "total_sqft\n",
      "1200    843\n",
      "1100    221\n",
      "1500    205\n",
      "2400    196\n",
      "600     180\n",
      "       ... \n",
      "3580      1\n",
      "2461      1\n",
      "1437      1\n",
      "2155      1\n",
      "4689      1\n",
      "Name: count, Length: 2117, dtype: int64\n",
      "........................\n",
      "bath\n",
      "2.0     6908\n",
      "3.0     3286\n",
      "4.0     1226\n",
      "1.0      788\n",
      "5.0      524\n",
      "6.0      273\n",
      "7.0      102\n",
      "8.0       64\n",
      "9.0       43\n",
      "10.0      13\n",
      "12.0       7\n",
      "13.0       3\n",
      "11.0       3\n",
      "16.0       2\n",
      "27.0       1\n",
      "40.0       1\n",
      "15.0       1\n",
      "14.0       1\n",
      "18.0       1\n",
      "Name: count, dtype: int64\n",
      "........................\n",
      "balcony\n",
      "2.0    5113\n",
      "1.0    4897\n",
      "3.0    1672\n",
      "0.0    1029\n",
      "Name: count, dtype: int64\n",
      "........................\n",
      "price\n",
      "75.00     310\n",
      "65.00     302\n",
      "55.00     275\n",
      "60.00     270\n",
      "45.00     240\n",
      "         ... \n",
      "351.00      1\n",
      "54.10       1\n",
      "80.64       1\n",
      "32.73       1\n",
      "488.00      1\n",
      "Name: count, Length: 1994, dtype: int64\n",
      "........................\n"
     ]
    }
   ],
   "source": [
    "for i in df.columns:\n",
    "    print(df[i].value_counts())\n",
    "    print(\"........................\")"
   ]
  },
  {
   "cell_type": "code",
   "execution_count": 6,
   "id": "d35fca9b-8e2d-4d6d-93ac-ab480ce57bb6",
   "metadata": {},
   "outputs": [
    {
     "data": {
      "text/plain": [
       "area_type          0\n",
       "availability       0\n",
       "location           1\n",
       "size              16\n",
       "society         5502\n",
       "total_sqft         0\n",
       "bath              73\n",
       "balcony          609\n",
       "price              0\n",
       "dtype: int64"
      ]
     },
     "execution_count": 6,
     "metadata": {},
     "output_type": "execute_result"
    }
   ],
   "source": [
    "df.isnull().sum()"
   ]
  },
  {
   "cell_type": "code",
   "execution_count": 6,
   "id": "c3c0a3f8-9e00-41e1-9c03-9603758fdf65",
   "metadata": {},
   "outputs": [
    {
     "data": {
      "text/plain": [
       "(13320, 9)"
      ]
     },
     "execution_count": 6,
     "metadata": {},
     "output_type": "execute_result"
    }
   ],
   "source": [
    "df.shape"
   ]
  },
  {
   "cell_type": "markdown",
   "id": "227a7e19-bd9f-44b3-a732-e6a739efc79e",
   "metadata": {},
   "source": [
    "<h2>Handling Missing Values</h2>"
   ]
  },
  {
   "cell_type": "code",
   "execution_count": 7,
   "id": "d56eb4ca-27e5-40d0-a1ad-a634c33c7193",
   "metadata": {},
   "outputs": [],
   "source": [
    "df['size']=df['size'].fillna('2 BHK')"
   ]
  },
  {
   "cell_type": "code",
   "execution_count": 8,
   "id": "c9c84841-620c-40b4-865c-1a7ebc5f7a09",
   "metadata": {},
   "outputs": [],
   "source": [
    "df['location']=df['location'].fillna('Whitefield')"
   ]
  },
  {
   "cell_type": "code",
   "execution_count": 9,
   "id": "a9d4a0cf-b23b-4658-82d7-8ba8397abd01",
   "metadata": {},
   "outputs": [],
   "source": [
    "df['bath']=df['bath'].fillna(df['bath'].median())"
   ]
  },
  {
   "cell_type": "code",
   "execution_count": 10,
   "id": "4b3d28ad-cdcb-4f77-a4ab-20881943f748",
   "metadata": {},
   "outputs": [],
   "source": [
    "df['balcony']=df['balcony'].fillna(df['balcony'].median())"
   ]
  },
  {
   "cell_type": "code",
   "execution_count": 11,
   "id": "237eff59-f15c-4328-8e96-a9ae2c1ea467",
   "metadata": {},
   "outputs": [],
   "source": [
    "df=df.drop(columns=['society','availability'])"
   ]
  },
  {
   "cell_type": "code",
   "execution_count": 12,
   "id": "1d8b6f16-bf02-4440-bb2e-bec3be4ca378",
   "metadata": {},
   "outputs": [],
   "source": [
    "def convert(x):\n",
    "    s=x.split('-')\n",
    "    if len(s)==2:\n",
    "        return (float(s[0])+float(s[1]))/2\n",
    "    try:\n",
    "        return float(x)\n",
    "    except:\n",
    "        return None"
   ]
  },
  {
   "cell_type": "code",
   "execution_count": 13,
   "id": "b3ea639d-3710-4095-b833-d663750a1348",
   "metadata": {},
   "outputs": [],
   "source": [
    "df['total_sqft']=df['total_sqft'].apply(convert)"
   ]
  },
  {
   "cell_type": "code",
   "execution_count": 14,
   "id": "823eb17d-b617-498e-90e8-32ddbfc2b7d1",
   "metadata": {},
   "outputs": [],
   "source": [
    "df['bhk']=df['size'].str.split().str.get(0).astype(int)"
   ]
  },
  {
   "cell_type": "code",
   "execution_count": 15,
   "id": "7a06a840-15ab-4697-ac0f-adf7ffb31116",
   "metadata": {},
   "outputs": [],
   "source": [
    "df=df.drop(columns=['size'])"
   ]
  },
  {
   "cell_type": "code",
   "execution_count": 16,
   "id": "a86bd1e8-85c2-4af5-84e9-bac57e76fa99",
   "metadata": {},
   "outputs": [],
   "source": [
    "df['price_per_sq']=df['total_sqft']/df['price']"
   ]
  },
  {
   "cell_type": "code",
   "execution_count": 17,
   "id": "ba7aa788-99fa-4c94-9668-5f4f21593983",
   "metadata": {},
   "outputs": [
    {
     "data": {
      "text/html": [
       "<div>\n",
       "<style scoped>\n",
       "    .dataframe tbody tr th:only-of-type {\n",
       "        vertical-align: middle;\n",
       "    }\n",
       "\n",
       "    .dataframe tbody tr th {\n",
       "        vertical-align: top;\n",
       "    }\n",
       "\n",
       "    .dataframe thead th {\n",
       "        text-align: right;\n",
       "    }\n",
       "</style>\n",
       "<table border=\"1\" class=\"dataframe\">\n",
       "  <thead>\n",
       "    <tr style=\"text-align: right;\">\n",
       "      <th></th>\n",
       "      <th>area_type</th>\n",
       "      <th>location</th>\n",
       "      <th>total_sqft</th>\n",
       "      <th>bath</th>\n",
       "      <th>balcony</th>\n",
       "      <th>price</th>\n",
       "      <th>bhk</th>\n",
       "      <th>price_per_sq</th>\n",
       "    </tr>\n",
       "  </thead>\n",
       "  <tbody>\n",
       "    <tr>\n",
       "      <th>5182</th>\n",
       "      <td>Super built-up  Area</td>\n",
       "      <td>Hoodi</td>\n",
       "      <td>1925.0</td>\n",
       "      <td>3.0</td>\n",
       "      <td>3.0</td>\n",
       "      <td>110.0</td>\n",
       "      <td>3</td>\n",
       "      <td>17.5</td>\n",
       "    </tr>\n",
       "  </tbody>\n",
       "</table>\n",
       "</div>"
      ],
      "text/plain": [
       "                 area_type location  total_sqft  bath  balcony  price  bhk  \\\n",
       "5182  Super built-up  Area    Hoodi      1925.0   3.0      3.0  110.0    3   \n",
       "\n",
       "      price_per_sq  \n",
       "5182          17.5  "
      ]
     },
     "execution_count": 17,
     "metadata": {},
     "output_type": "execute_result"
    }
   ],
   "source": [
    "df.sample()"
   ]
  },
  {
   "cell_type": "code",
   "execution_count": 18,
   "id": "8f571992-e3b8-4f61-aa75-a1d2dc36180d",
   "metadata": {},
   "outputs": [],
   "source": [
    "df['total_sqft']=df['total_sqft'].fillna(df['total_sqft'].median())\n",
    "df['price_per_sq']=df['price_per_sq'].fillna(df['price_per_sq'].median())"
   ]
  },
  {
   "cell_type": "code",
   "execution_count": 19,
   "id": "3a429fc2-a3a5-40a4-a638-711936110d89",
   "metadata": {},
   "outputs": [
    {
     "data": {
      "text/plain": [
       "area_type       0\n",
       "location        0\n",
       "total_sqft      0\n",
       "bath            0\n",
       "balcony         0\n",
       "price           0\n",
       "bhk             0\n",
       "price_per_sq    0\n",
       "dtype: int64"
      ]
     },
     "execution_count": 19,
     "metadata": {},
     "output_type": "execute_result"
    }
   ],
   "source": [
    "df.isnull().sum()"
   ]
  },
  {
   "cell_type": "code",
   "execution_count": 20,
   "id": "2e3be259-7c49-4169-b618-c326549a7685",
   "metadata": {},
   "outputs": [
    {
     "data": {
      "text/html": [
       "<div>\n",
       "<style scoped>\n",
       "    .dataframe tbody tr th:only-of-type {\n",
       "        vertical-align: middle;\n",
       "    }\n",
       "\n",
       "    .dataframe tbody tr th {\n",
       "        vertical-align: top;\n",
       "    }\n",
       "\n",
       "    .dataframe thead th {\n",
       "        text-align: right;\n",
       "    }\n",
       "</style>\n",
       "<table border=\"1\" class=\"dataframe\">\n",
       "  <thead>\n",
       "    <tr style=\"text-align: right;\">\n",
       "      <th></th>\n",
       "      <th>area_type</th>\n",
       "      <th>location</th>\n",
       "      <th>total_sqft</th>\n",
       "      <th>bath</th>\n",
       "      <th>balcony</th>\n",
       "      <th>price</th>\n",
       "      <th>bhk</th>\n",
       "      <th>price_per_sq</th>\n",
       "    </tr>\n",
       "  </thead>\n",
       "  <tbody>\n",
       "    <tr>\n",
       "      <th>1063</th>\n",
       "      <td>Plot  Area</td>\n",
       "      <td>2nd Stage Nagarbhavi</td>\n",
       "      <td>3000.0</td>\n",
       "      <td>8.0</td>\n",
       "      <td>3.0</td>\n",
       "      <td>451.0</td>\n",
       "      <td>6</td>\n",
       "      <td>6.651885</td>\n",
       "    </tr>\n",
       "  </tbody>\n",
       "</table>\n",
       "</div>"
      ],
      "text/plain": [
       "       area_type              location  total_sqft  bath  balcony  price  bhk  \\\n",
       "1063  Plot  Area  2nd Stage Nagarbhavi      3000.0   8.0      3.0  451.0    6   \n",
       "\n",
       "      price_per_sq  \n",
       "1063      6.651885  "
      ]
     },
     "execution_count": 20,
     "metadata": {},
     "output_type": "execute_result"
    }
   ],
   "source": [
    "df.sample()"
   ]
  },
  {
   "cell_type": "code",
   "execution_count": 21,
   "id": "7b15604d-9294-404c-9abb-2f65a5667715",
   "metadata": {},
   "outputs": [],
   "source": [
    "df['location']=df['location'].apply(lambda x:x.strip())"
   ]
  },
  {
   "cell_type": "code",
   "execution_count": 22,
   "id": "ec44ec08-d383-485b-94f0-8d06c8676900",
   "metadata": {},
   "outputs": [
    {
     "data": {
      "text/plain": [
       "location\n",
       "Dairy Circle                      10\n",
       "Nagappa Reddy Layout              10\n",
       "Basapura                          10\n",
       "1st Block Koramangala             10\n",
       "Sector 1 HSR Layout               10\n",
       "                                  ..\n",
       "Bapuji Layout                      1\n",
       "1st Stage Radha Krishna Layout     1\n",
       "BEML Layout 5th stage              1\n",
       "singapura paradise                 1\n",
       "Abshot Layout                      1\n",
       "Name: count, Length: 1053, dtype: int64"
      ]
     },
     "execution_count": 22,
     "metadata": {},
     "output_type": "execute_result"
    }
   ],
   "source": [
    "count=df['location'].value_counts()\n",
    "count_new=count[count<=10]\n",
    "count_new"
   ]
  },
  {
   "cell_type": "code",
   "execution_count": 24,
   "id": "2f83bd1b-12d9-45f3-b3fe-c8ad05173fdd",
   "metadata": {},
   "outputs": [],
   "source": [
    "df['location']=df['location'].apply(lambda x:'other' if x in count_new else x)"
   ]
  },
  {
   "cell_type": "code",
   "execution_count": 25,
   "id": "092d9f06-4265-4421-9176-927baad06fad",
   "metadata": {},
   "outputs": [
    {
     "data": {
      "text/plain": [
       "location\n",
       "other                 2885\n",
       "Whitefield             542\n",
       "Sarjapur  Road         399\n",
       "Electronic City        304\n",
       "Kanakpura Road         273\n",
       "                      ... \n",
       "Nehru Nagar             11\n",
       "Banjara Layout          11\n",
       "LB Shastri Nagar        11\n",
       "Pattandur Agrahara      11\n",
       "Narayanapura            11\n",
       "Name: count, Length: 242, dtype: int64"
      ]
     },
     "execution_count": 25,
     "metadata": {},
     "output_type": "execute_result"
    }
   ],
   "source": [
    "df['location'].value_counts()"
   ]
  },
  {
   "cell_type": "code",
   "execution_count": 28,
   "id": "c3a05d7b-690e-4fbc-9fcb-2050ca557098",
   "metadata": {},
   "outputs": [
    {
     "data": {
      "text/html": [
       "<div>\n",
       "<style scoped>\n",
       "    .dataframe tbody tr th:only-of-type {\n",
       "        vertical-align: middle;\n",
       "    }\n",
       "\n",
       "    .dataframe tbody tr th {\n",
       "        vertical-align: top;\n",
       "    }\n",
       "\n",
       "    .dataframe thead th {\n",
       "        text-align: right;\n",
       "    }\n",
       "</style>\n",
       "<table border=\"1\" class=\"dataframe\">\n",
       "  <thead>\n",
       "    <tr style=\"text-align: right;\">\n",
       "      <th></th>\n",
       "      <th>area_type</th>\n",
       "      <th>location</th>\n",
       "      <th>total_sqft</th>\n",
       "      <th>bath</th>\n",
       "      <th>balcony</th>\n",
       "      <th>price</th>\n",
       "      <th>bhk</th>\n",
       "      <th>price_per_sq</th>\n",
       "    </tr>\n",
       "  </thead>\n",
       "  <tbody>\n",
       "    <tr>\n",
       "      <th>12321</th>\n",
       "      <td>Super built-up  Area</td>\n",
       "      <td>Brookefield</td>\n",
       "      <td>1382.0</td>\n",
       "      <td>2.0</td>\n",
       "      <td>2.0</td>\n",
       "      <td>84.5</td>\n",
       "      <td>2</td>\n",
       "      <td>16.35503</td>\n",
       "    </tr>\n",
       "  </tbody>\n",
       "</table>\n",
       "</div>"
      ],
      "text/plain": [
       "                  area_type     location  total_sqft  bath  balcony  price  \\\n",
       "12321  Super built-up  Area  Brookefield      1382.0   2.0      2.0   84.5   \n",
       "\n",
       "       bhk  price_per_sq  \n",
       "12321    2      16.35503  "
      ]
     },
     "execution_count": 28,
     "metadata": {},
     "output_type": "execute_result"
    }
   ],
   "source": [
    "df.sample()"
   ]
  },
  {
   "cell_type": "markdown",
   "id": "794ce52b-405d-4f82-bdcf-0efe193bb421",
   "metadata": {},
   "source": [
    "<h2>Outlier Detection And Removal</h2>"
   ]
  },
  {
   "cell_type": "code",
   "execution_count": 29,
   "id": "c8b7cfdc-9385-4519-a957-dec7e0dad05e",
   "metadata": {},
   "outputs": [
    {
     "data": {
      "text/html": [
       "<div>\n",
       "<style scoped>\n",
       "    .dataframe tbody tr th:only-of-type {\n",
       "        vertical-align: middle;\n",
       "    }\n",
       "\n",
       "    .dataframe tbody tr th {\n",
       "        vertical-align: top;\n",
       "    }\n",
       "\n",
       "    .dataframe thead th {\n",
       "        text-align: right;\n",
       "    }\n",
       "</style>\n",
       "<table border=\"1\" class=\"dataframe\">\n",
       "  <thead>\n",
       "    <tr style=\"text-align: right;\">\n",
       "      <th></th>\n",
       "      <th>total_sqft</th>\n",
       "      <th>bath</th>\n",
       "      <th>balcony</th>\n",
       "      <th>price</th>\n",
       "      <th>bhk</th>\n",
       "      <th>price_per_sq</th>\n",
       "    </tr>\n",
       "  </thead>\n",
       "  <tbody>\n",
       "    <tr>\n",
       "      <th>count</th>\n",
       "      <td>13320.000000</td>\n",
       "      <td>13320.000000</td>\n",
       "      <td>13320.000000</td>\n",
       "      <td>13320.000000</td>\n",
       "      <td>13320.000000</td>\n",
       "      <td>13320.000000</td>\n",
       "    </tr>\n",
       "    <tr>\n",
       "      <th>mean</th>\n",
       "      <td>1558.647202</td>\n",
       "      <td>2.688814</td>\n",
       "      <td>1.603378</td>\n",
       "      <td>112.565627</td>\n",
       "      <td>2.802778</td>\n",
       "      <td>18.919847</td>\n",
       "    </tr>\n",
       "    <tr>\n",
       "      <th>std</th>\n",
       "      <td>1236.376834</td>\n",
       "      <td>1.338754</td>\n",
       "      <td>0.803067</td>\n",
       "      <td>148.971674</td>\n",
       "      <td>1.294496</td>\n",
       "      <td>9.405701</td>\n",
       "    </tr>\n",
       "    <tr>\n",
       "      <th>min</th>\n",
       "      <td>1.000000</td>\n",
       "      <td>1.000000</td>\n",
       "      <td>0.000000</td>\n",
       "      <td>8.000000</td>\n",
       "      <td>1.000000</td>\n",
       "      <td>0.008333</td>\n",
       "    </tr>\n",
       "    <tr>\n",
       "      <th>25%</th>\n",
       "      <td>1100.000000</td>\n",
       "      <td>2.000000</td>\n",
       "      <td>1.000000</td>\n",
       "      <td>50.000000</td>\n",
       "      <td>2.000000</td>\n",
       "      <td>13.700000</td>\n",
       "    </tr>\n",
       "    <tr>\n",
       "      <th>50%</th>\n",
       "      <td>1276.000000</td>\n",
       "      <td>2.000000</td>\n",
       "      <td>2.000000</td>\n",
       "      <td>72.000000</td>\n",
       "      <td>3.000000</td>\n",
       "      <td>18.401613</td>\n",
       "    </tr>\n",
       "    <tr>\n",
       "      <th>75%</th>\n",
       "      <td>1678.000000</td>\n",
       "      <td>3.000000</td>\n",
       "      <td>2.000000</td>\n",
       "      <td>120.000000</td>\n",
       "      <td>3.000000</td>\n",
       "      <td>23.409091</td>\n",
       "    </tr>\n",
       "    <tr>\n",
       "      <th>max</th>\n",
       "      <td>52272.000000</td>\n",
       "      <td>40.000000</td>\n",
       "      <td>3.000000</td>\n",
       "      <td>3600.000000</td>\n",
       "      <td>43.000000</td>\n",
       "      <td>373.371429</td>\n",
       "    </tr>\n",
       "  </tbody>\n",
       "</table>\n",
       "</div>"
      ],
      "text/plain": [
       "         total_sqft          bath       balcony         price           bhk  \\\n",
       "count  13320.000000  13320.000000  13320.000000  13320.000000  13320.000000   \n",
       "mean    1558.647202      2.688814      1.603378    112.565627      2.802778   \n",
       "std     1236.376834      1.338754      0.803067    148.971674      1.294496   \n",
       "min        1.000000      1.000000      0.000000      8.000000      1.000000   \n",
       "25%     1100.000000      2.000000      1.000000     50.000000      2.000000   \n",
       "50%     1276.000000      2.000000      2.000000     72.000000      3.000000   \n",
       "75%     1678.000000      3.000000      2.000000    120.000000      3.000000   \n",
       "max    52272.000000     40.000000      3.000000   3600.000000     43.000000   \n",
       "\n",
       "       price_per_sq  \n",
       "count  13320.000000  \n",
       "mean      18.919847  \n",
       "std        9.405701  \n",
       "min        0.008333  \n",
       "25%       13.700000  \n",
       "50%       18.401613  \n",
       "75%       23.409091  \n",
       "max      373.371429  "
      ]
     },
     "execution_count": 29,
     "metadata": {},
     "output_type": "execute_result"
    }
   ],
   "source": [
    "df.describe()"
   ]
  },
  {
   "cell_type": "code",
   "execution_count": 30,
   "id": "32228e10-cc7d-43a0-86bb-32e2a23dad9f",
   "metadata": {},
   "outputs": [
    {
     "data": {
      "text/plain": [
       "count    13320.000000\n",
       "mean       575.122682\n",
       "std        388.133558\n",
       "min          0.250000\n",
       "25%        473.000000\n",
       "50%        552.500000\n",
       "75%        625.000000\n",
       "max      26136.000000\n",
       "dtype: float64"
      ]
     },
     "execution_count": 30,
     "metadata": {},
     "output_type": "execute_result"
    }
   ],
   "source": [
    "(df['total_sqft']/df['bhk']).describe()"
   ]
  },
  {
   "cell_type": "code",
   "execution_count": 31,
   "id": "5e4d2c43-8b51-41d6-9c19-9b64c74b4afa",
   "metadata": {},
   "outputs": [],
   "source": [
    "df=df[((df['total_sqft']/df['bhk'])>=300)]"
   ]
  },
  {
   "cell_type": "code",
   "execution_count": 35,
   "id": "5b9f99f9-48ff-41c2-abb1-04bb75c5ae48",
   "metadata": {},
   "outputs": [
    {
     "data": {
      "text/html": [
       "<div>\n",
       "<style scoped>\n",
       "    .dataframe tbody tr th:only-of-type {\n",
       "        vertical-align: middle;\n",
       "    }\n",
       "\n",
       "    .dataframe tbody tr th {\n",
       "        vertical-align: top;\n",
       "    }\n",
       "\n",
       "    .dataframe thead th {\n",
       "        text-align: right;\n",
       "    }\n",
       "</style>\n",
       "<table border=\"1\" class=\"dataframe\">\n",
       "  <thead>\n",
       "    <tr style=\"text-align: right;\">\n",
       "      <th></th>\n",
       "      <th>total_sqft</th>\n",
       "      <th>bath</th>\n",
       "      <th>balcony</th>\n",
       "      <th>price</th>\n",
       "      <th>bhk</th>\n",
       "      <th>price_per_sq</th>\n",
       "    </tr>\n",
       "  </thead>\n",
       "  <tbody>\n",
       "    <tr>\n",
       "      <th>count</th>\n",
       "      <td>12568.000000</td>\n",
       "      <td>12568.000000</td>\n",
       "      <td>12568.000000</td>\n",
       "      <td>12568.000000</td>\n",
       "      <td>12568.000000</td>\n",
       "      <td>12568.000000</td>\n",
       "    </tr>\n",
       "    <tr>\n",
       "      <th>mean</th>\n",
       "      <td>1593.601347</td>\n",
       "      <td>2.559039</td>\n",
       "      <td>1.603278</td>\n",
       "      <td>111.409518</td>\n",
       "      <td>2.650064</td>\n",
       "      <td>19.489026</td>\n",
       "    </tr>\n",
       "    <tr>\n",
       "      <th>std</th>\n",
       "      <td>1259.484400</td>\n",
       "      <td>1.077715</td>\n",
       "      <td>0.796664</td>\n",
       "      <td>151.916676</td>\n",
       "      <td>0.976813</td>\n",
       "      <td>9.278165</td>\n",
       "    </tr>\n",
       "    <tr>\n",
       "      <th>min</th>\n",
       "      <td>300.000000</td>\n",
       "      <td>1.000000</td>\n",
       "      <td>0.000000</td>\n",
       "      <td>8.440000</td>\n",
       "      <td>1.000000</td>\n",
       "      <td>0.566667</td>\n",
       "    </tr>\n",
       "    <tr>\n",
       "      <th>25%</th>\n",
       "      <td>1117.750000</td>\n",
       "      <td>2.000000</td>\n",
       "      <td>1.000000</td>\n",
       "      <td>49.000000</td>\n",
       "      <td>2.000000</td>\n",
       "      <td>14.482759</td>\n",
       "    </tr>\n",
       "    <tr>\n",
       "      <th>50%</th>\n",
       "      <td>1300.000000</td>\n",
       "      <td>2.000000</td>\n",
       "      <td>2.000000</td>\n",
       "      <td>70.000000</td>\n",
       "      <td>3.000000</td>\n",
       "      <td>18.868486</td>\n",
       "    </tr>\n",
       "    <tr>\n",
       "      <th>75%</th>\n",
       "      <td>1700.000000</td>\n",
       "      <td>3.000000</td>\n",
       "      <td>2.000000</td>\n",
       "      <td>115.000000</td>\n",
       "      <td>3.000000</td>\n",
       "      <td>23.735277</td>\n",
       "    </tr>\n",
       "    <tr>\n",
       "      <th>max</th>\n",
       "      <td>52272.000000</td>\n",
       "      <td>16.000000</td>\n",
       "      <td>3.000000</td>\n",
       "      <td>3600.000000</td>\n",
       "      <td>16.000000</td>\n",
       "      <td>373.371429</td>\n",
       "    </tr>\n",
       "  </tbody>\n",
       "</table>\n",
       "</div>"
      ],
      "text/plain": [
       "         total_sqft          bath       balcony         price           bhk  \\\n",
       "count  12568.000000  12568.000000  12568.000000  12568.000000  12568.000000   \n",
       "mean    1593.601347      2.559039      1.603278    111.409518      2.650064   \n",
       "std     1259.484400      1.077715      0.796664    151.916676      0.976813   \n",
       "min      300.000000      1.000000      0.000000      8.440000      1.000000   \n",
       "25%     1117.750000      2.000000      1.000000     49.000000      2.000000   \n",
       "50%     1300.000000      2.000000      2.000000     70.000000      3.000000   \n",
       "75%     1700.000000      3.000000      2.000000    115.000000      3.000000   \n",
       "max    52272.000000     16.000000      3.000000   3600.000000     16.000000   \n",
       "\n",
       "       price_per_sq  \n",
       "count  12568.000000  \n",
       "mean      19.489026  \n",
       "std        9.278165  \n",
       "min        0.566667  \n",
       "25%       14.482759  \n",
       "50%       18.868486  \n",
       "75%       23.735277  \n",
       "max      373.371429  "
      ]
     },
     "execution_count": 35,
     "metadata": {},
     "output_type": "execute_result"
    }
   ],
   "source": [
    "df.describe()"
   ]
  },
  {
   "cell_type": "code",
   "execution_count": 37,
   "id": "995c026a-1bb0-4e8a-8601-61e7f52768b5",
   "metadata": {},
   "outputs": [
    {
     "data": {
      "text/plain": [
       "count    12568.000000\n",
       "mean        19.489026\n",
       "std          9.278165\n",
       "min          0.566667\n",
       "25%         14.482759\n",
       "50%         18.868486\n",
       "75%         23.735277\n",
       "max        373.371429\n",
       "Name: price_per_sq, dtype: float64"
      ]
     },
     "execution_count": 37,
     "metadata": {},
     "output_type": "execute_result"
    }
   ],
   "source": [
    "df.price_per_sq.describe()"
   ]
  },
  {
   "cell_type": "code",
   "execution_count": 39,
   "id": "1021c255-743a-4821-a337-de4453ebce80",
   "metadata": {},
   "outputs": [
    {
     "data": {
      "text/html": [
       "<div>\n",
       "<style scoped>\n",
       "    .dataframe tbody tr th:only-of-type {\n",
       "        vertical-align: middle;\n",
       "    }\n",
       "\n",
       "    .dataframe tbody tr th {\n",
       "        vertical-align: top;\n",
       "    }\n",
       "\n",
       "    .dataframe thead th {\n",
       "        text-align: right;\n",
       "    }\n",
       "</style>\n",
       "<table border=\"1\" class=\"dataframe\">\n",
       "  <thead>\n",
       "    <tr style=\"text-align: right;\">\n",
       "      <th></th>\n",
       "      <th>total_sqft</th>\n",
       "      <th>bath</th>\n",
       "      <th>balcony</th>\n",
       "      <th>price</th>\n",
       "      <th>bhk</th>\n",
       "      <th>price_per_sq</th>\n",
       "    </tr>\n",
       "  </thead>\n",
       "  <tbody>\n",
       "    <tr>\n",
       "      <th>count</th>\n",
       "      <td>9533.000000</td>\n",
       "      <td>9533.000000</td>\n",
       "      <td>9533.000000</td>\n",
       "      <td>9533.000000</td>\n",
       "      <td>9533.000000</td>\n",
       "      <td>9533.000000</td>\n",
       "    </tr>\n",
       "    <tr>\n",
       "      <th>mean</th>\n",
       "      <td>1527.678104</td>\n",
       "      <td>2.495437</td>\n",
       "      <td>1.600545</td>\n",
       "      <td>96.976132</td>\n",
       "      <td>2.591105</td>\n",
       "      <td>19.052033</td>\n",
       "    </tr>\n",
       "    <tr>\n",
       "      <th>std</th>\n",
       "      <td>911.895078</td>\n",
       "      <td>0.990357</td>\n",
       "      <td>0.791191</td>\n",
       "      <td>96.591971</td>\n",
       "      <td>0.900303</td>\n",
       "      <td>5.901291</td>\n",
       "    </tr>\n",
       "    <tr>\n",
       "      <th>min</th>\n",
       "      <td>300.000000</td>\n",
       "      <td>1.000000</td>\n",
       "      <td>0.000000</td>\n",
       "      <td>10.000000</td>\n",
       "      <td>1.000000</td>\n",
       "      <td>3.692308</td>\n",
       "    </tr>\n",
       "    <tr>\n",
       "      <th>25%</th>\n",
       "      <td>1115.000000</td>\n",
       "      <td>2.000000</td>\n",
       "      <td>1.000000</td>\n",
       "      <td>51.000000</td>\n",
       "      <td>2.000000</td>\n",
       "      <td>15.180328</td>\n",
       "    </tr>\n",
       "    <tr>\n",
       "      <th>50%</th>\n",
       "      <td>1300.000000</td>\n",
       "      <td>2.000000</td>\n",
       "      <td>2.000000</td>\n",
       "      <td>70.000000</td>\n",
       "      <td>2.000000</td>\n",
       "      <td>18.833333</td>\n",
       "    </tr>\n",
       "    <tr>\n",
       "      <th>75%</th>\n",
       "      <td>1675.000000</td>\n",
       "      <td>3.000000</td>\n",
       "      <td>2.000000</td>\n",
       "      <td>106.000000</td>\n",
       "      <td>3.000000</td>\n",
       "      <td>22.593407</td>\n",
       "    </tr>\n",
       "    <tr>\n",
       "      <th>max</th>\n",
       "      <td>30400.000000</td>\n",
       "      <td>16.000000</td>\n",
       "      <td>3.000000</td>\n",
       "      <td>2200.000000</td>\n",
       "      <td>16.000000</td>\n",
       "      <td>41.000000</td>\n",
       "    </tr>\n",
       "  </tbody>\n",
       "</table>\n",
       "</div>"
      ],
      "text/plain": [
       "         total_sqft         bath      balcony        price          bhk  \\\n",
       "count   9533.000000  9533.000000  9533.000000  9533.000000  9533.000000   \n",
       "mean    1527.678104     2.495437     1.600545    96.976132     2.591105   \n",
       "std      911.895078     0.990357     0.791191    96.591971     0.900303   \n",
       "min      300.000000     1.000000     0.000000    10.000000     1.000000   \n",
       "25%     1115.000000     2.000000     1.000000    51.000000     2.000000   \n",
       "50%     1300.000000     2.000000     2.000000    70.000000     2.000000   \n",
       "75%     1675.000000     3.000000     2.000000   106.000000     3.000000   \n",
       "max    30400.000000    16.000000     3.000000  2200.000000    16.000000   \n",
       "\n",
       "       price_per_sq  \n",
       "count   9533.000000  \n",
       "mean      19.052033  \n",
       "std        5.901291  \n",
       "min        3.692308  \n",
       "25%       15.180328  \n",
       "50%       18.833333  \n",
       "75%       22.593407  \n",
       "max       41.000000  "
      ]
     },
     "execution_count": 39,
     "metadata": {},
     "output_type": "execute_result"
    }
   ],
   "source": [
    "def price_per_outlier(df):\n",
    "    out=pd.DataFrame()\n",
    "    for key,subdf in df.groupby('location'):\n",
    "        m=np.mean(subdf.price_per_sq)\n",
    "        s=np.std(subdf.price_per_sq)\n",
    "        newdf=subdf[(subdf.price_per_sq>(m-s)) & (subdf.price_per_sq<=(m+s))]\n",
    "        out=pd.concat([out,newdf],ignore_index=True)\n",
    "    return out\n",
    "df=price_per_outlier(df)\n",
    "df.describe()"
   ]
  },
  {
   "cell_type": "code",
   "execution_count": 43,
   "id": "0cc40f0e-b1b1-49fa-9ca5-7177373f7991",
   "metadata": {},
   "outputs": [
    {
     "data": {
      "text/html": [
       "<div>\n",
       "<style scoped>\n",
       "    .dataframe tbody tr th:only-of-type {\n",
       "        vertical-align: middle;\n",
       "    }\n",
       "\n",
       "    .dataframe tbody tr th {\n",
       "        vertical-align: top;\n",
       "    }\n",
       "\n",
       "    .dataframe thead th {\n",
       "        text-align: right;\n",
       "    }\n",
       "</style>\n",
       "<table border=\"1\" class=\"dataframe\">\n",
       "  <thead>\n",
       "    <tr style=\"text-align: right;\">\n",
       "      <th></th>\n",
       "      <th>area_type</th>\n",
       "      <th>location</th>\n",
       "      <th>total_sqft</th>\n",
       "      <th>bath</th>\n",
       "      <th>balcony</th>\n",
       "      <th>price</th>\n",
       "      <th>bhk</th>\n",
       "      <th>price_per_sq</th>\n",
       "    </tr>\n",
       "  </thead>\n",
       "  <tbody>\n",
       "    <tr>\n",
       "      <th>1563</th>\n",
       "      <td>Super built-up  Area</td>\n",
       "      <td>Devarachikkanahalli</td>\n",
       "      <td>991.0</td>\n",
       "      <td>2.0</td>\n",
       "      <td>2.0</td>\n",
       "      <td>40.0</td>\n",
       "      <td>2</td>\n",
       "      <td>24.775</td>\n",
       "    </tr>\n",
       "  </tbody>\n",
       "</table>\n",
       "</div>"
      ],
      "text/plain": [
       "                 area_type             location  total_sqft  bath  balcony  \\\n",
       "1563  Super built-up  Area  Devarachikkanahalli       991.0   2.0      2.0   \n",
       "\n",
       "      price  bhk  price_per_sq  \n",
       "1563   40.0    2        24.775  "
      ]
     },
     "execution_count": 43,
     "metadata": {},
     "output_type": "execute_result"
    }
   ],
   "source": [
    "df.sample()"
   ]
  },
  {
   "cell_type": "code",
   "execution_count": 45,
   "id": "7193cc7f-c089-4402-a707-7c51466cb800",
   "metadata": {},
   "outputs": [],
   "source": [
    "df=df.drop(columns=['price_per_sq'])"
   ]
  },
  {
   "cell_type": "markdown",
   "id": "a4819cb7-69c3-4eec-963c-796a71b2bfb0",
   "metadata": {},
   "source": [
    "<h2>Model</h2>"
   ]
  },
  {
   "cell_type": "code",
   "execution_count": 46,
   "id": "5cfb5c60-af25-4ed0-814c-ec33cdf6767c",
   "metadata": {},
   "outputs": [],
   "source": [
    "Y=df['price']\n",
    "X=df.drop(columns=['price'])"
   ]
  },
  {
   "cell_type": "code",
   "execution_count": 76,
   "id": "6dcda362-a99c-408c-923f-87377f8959d3",
   "metadata": {},
   "outputs": [],
   "source": [
    "X_train,X_test,Y_train,Y_test=train_test_split(X,Y,test_size=0.2,random_state=0)"
   ]
  },
  {
   "cell_type": "code",
   "execution_count": 77,
   "id": "699dc44d-6672-4ea7-a5b5-38f7da344ff4",
   "metadata": {},
   "outputs": [
    {
     "data": {
      "text/html": [
       "<div>\n",
       "<style scoped>\n",
       "    .dataframe tbody tr th:only-of-type {\n",
       "        vertical-align: middle;\n",
       "    }\n",
       "\n",
       "    .dataframe tbody tr th {\n",
       "        vertical-align: top;\n",
       "    }\n",
       "\n",
       "    .dataframe thead th {\n",
       "        text-align: right;\n",
       "    }\n",
       "</style>\n",
       "<table border=\"1\" class=\"dataframe\">\n",
       "  <thead>\n",
       "    <tr style=\"text-align: right;\">\n",
       "      <th></th>\n",
       "      <th>area_type</th>\n",
       "      <th>location</th>\n",
       "      <th>total_sqft</th>\n",
       "      <th>bath</th>\n",
       "      <th>balcony</th>\n",
       "      <th>bhk</th>\n",
       "    </tr>\n",
       "  </thead>\n",
       "  <tbody>\n",
       "    <tr>\n",
       "      <th>5301</th>\n",
       "      <td>Plot  Area</td>\n",
       "      <td>Ramagondanahalli</td>\n",
       "      <td>540.0</td>\n",
       "      <td>1.0</td>\n",
       "      <td>0.0</td>\n",
       "      <td>1</td>\n",
       "    </tr>\n",
       "    <tr>\n",
       "      <th>9190</th>\n",
       "      <td>Plot  Area</td>\n",
       "      <td>other</td>\n",
       "      <td>1500.0</td>\n",
       "      <td>5.0</td>\n",
       "      <td>2.0</td>\n",
       "      <td>5</td>\n",
       "    </tr>\n",
       "    <tr>\n",
       "      <th>3151</th>\n",
       "      <td>Built-up  Area</td>\n",
       "      <td>JP Nagar</td>\n",
       "      <td>1315.0</td>\n",
       "      <td>2.0</td>\n",
       "      <td>1.0</td>\n",
       "      <td>3</td>\n",
       "    </tr>\n",
       "    <tr>\n",
       "      <th>7775</th>\n",
       "      <td>Super built-up  Area</td>\n",
       "      <td>other</td>\n",
       "      <td>700.0</td>\n",
       "      <td>1.0</td>\n",
       "      <td>1.0</td>\n",
       "      <td>1</td>\n",
       "    </tr>\n",
       "    <tr>\n",
       "      <th>7003</th>\n",
       "      <td>Super built-up  Area</td>\n",
       "      <td>Yelahanka</td>\n",
       "      <td>1450.0</td>\n",
       "      <td>3.0</td>\n",
       "      <td>0.0</td>\n",
       "      <td>3</td>\n",
       "    </tr>\n",
       "    <tr>\n",
       "      <th>...</th>\n",
       "      <td>...</td>\n",
       "      <td>...</td>\n",
       "      <td>...</td>\n",
       "      <td>...</td>\n",
       "      <td>...</td>\n",
       "      <td>...</td>\n",
       "    </tr>\n",
       "    <tr>\n",
       "      <th>7891</th>\n",
       "      <td>Super built-up  Area</td>\n",
       "      <td>other</td>\n",
       "      <td>1800.0</td>\n",
       "      <td>3.0</td>\n",
       "      <td>2.0</td>\n",
       "      <td>3</td>\n",
       "    </tr>\n",
       "    <tr>\n",
       "      <th>9225</th>\n",
       "      <td>Super built-up  Area</td>\n",
       "      <td>other</td>\n",
       "      <td>3800.0</td>\n",
       "      <td>6.0</td>\n",
       "      <td>2.0</td>\n",
       "      <td>6</td>\n",
       "    </tr>\n",
       "    <tr>\n",
       "      <th>4859</th>\n",
       "      <td>Super built-up  Area</td>\n",
       "      <td>Old Madras Road</td>\n",
       "      <td>1065.0</td>\n",
       "      <td>2.0</td>\n",
       "      <td>1.0</td>\n",
       "      <td>2</td>\n",
       "    </tr>\n",
       "    <tr>\n",
       "      <th>3264</th>\n",
       "      <td>Built-up  Area</td>\n",
       "      <td>Jalahalli</td>\n",
       "      <td>1400.0</td>\n",
       "      <td>1.0</td>\n",
       "      <td>1.0</td>\n",
       "      <td>2</td>\n",
       "    </tr>\n",
       "    <tr>\n",
       "      <th>2732</th>\n",
       "      <td>Super built-up  Area</td>\n",
       "      <td>Hennur Road</td>\n",
       "      <td>973.0</td>\n",
       "      <td>2.0</td>\n",
       "      <td>1.0</td>\n",
       "      <td>2</td>\n",
       "    </tr>\n",
       "  </tbody>\n",
       "</table>\n",
       "<p>7626 rows × 6 columns</p>\n",
       "</div>"
      ],
      "text/plain": [
       "                 area_type          location  total_sqft  bath  balcony  bhk\n",
       "5301            Plot  Area  Ramagondanahalli       540.0   1.0      0.0    1\n",
       "9190            Plot  Area             other      1500.0   5.0      2.0    5\n",
       "3151        Built-up  Area          JP Nagar      1315.0   2.0      1.0    3\n",
       "7775  Super built-up  Area             other       700.0   1.0      1.0    1\n",
       "7003  Super built-up  Area         Yelahanka      1450.0   3.0      0.0    3\n",
       "...                    ...               ...         ...   ...      ...  ...\n",
       "7891  Super built-up  Area             other      1800.0   3.0      2.0    3\n",
       "9225  Super built-up  Area             other      3800.0   6.0      2.0    6\n",
       "4859  Super built-up  Area   Old Madras Road      1065.0   2.0      1.0    2\n",
       "3264        Built-up  Area         Jalahalli      1400.0   1.0      1.0    2\n",
       "2732  Super built-up  Area       Hennur Road       973.0   2.0      1.0    2\n",
       "\n",
       "[7626 rows x 6 columns]"
      ]
     },
     "execution_count": 77,
     "metadata": {},
     "output_type": "execute_result"
    }
   ],
   "source": [
    "X_train"
   ]
  },
  {
   "cell_type": "code",
   "execution_count": 78,
   "id": "51358f6b-ab37-4b70-830d-20a7c2811178",
   "metadata": {},
   "outputs": [],
   "source": [
    "col_trans=ColumnTransformer([('ohe_area_loc',OneHotEncoder(sparse_output=False),[0,1])],remainder='passthrough')"
   ]
  },
  {
   "cell_type": "code",
   "execution_count": 79,
   "id": "faeaf67c-a76f-45e1-b10e-0291ed9319de",
   "metadata": {},
   "outputs": [],
   "source": [
    "scaler=StandardScaler()"
   ]
  },
  {
   "cell_type": "code",
   "execution_count": 80,
   "id": "0f9c965c-cde6-472a-8a82-e3749e87b5f3",
   "metadata": {},
   "outputs": [],
   "source": [
    "lr=LinearRegression()"
   ]
  },
  {
   "cell_type": "code",
   "execution_count": 81,
   "id": "4abe9a03-7d5a-470b-b410-c2b77d1cce46",
   "metadata": {},
   "outputs": [],
   "source": [
    "pipe=make_pipeline(col_trans,scaler,lr)"
   ]
  },
  {
   "cell_type": "code",
   "execution_count": 82,
   "id": "c334b98c-8e7d-4461-b39c-4211584ccfaa",
   "metadata": {},
   "outputs": [
    {
     "data": {
      "text/html": [
       "<style>#sk-container-id-4 {color: black;background-color: white;}#sk-container-id-4 pre{padding: 0;}#sk-container-id-4 div.sk-toggleable {background-color: white;}#sk-container-id-4 label.sk-toggleable__label {cursor: pointer;display: block;width: 100%;margin-bottom: 0;padding: 0.3em;box-sizing: border-box;text-align: center;}#sk-container-id-4 label.sk-toggleable__label-arrow:before {content: \"▸\";float: left;margin-right: 0.25em;color: #696969;}#sk-container-id-4 label.sk-toggleable__label-arrow:hover:before {color: black;}#sk-container-id-4 div.sk-estimator:hover label.sk-toggleable__label-arrow:before {color: black;}#sk-container-id-4 div.sk-toggleable__content {max-height: 0;max-width: 0;overflow: hidden;text-align: left;background-color: #f0f8ff;}#sk-container-id-4 div.sk-toggleable__content pre {margin: 0.2em;color: black;border-radius: 0.25em;background-color: #f0f8ff;}#sk-container-id-4 input.sk-toggleable__control:checked~div.sk-toggleable__content {max-height: 200px;max-width: 100%;overflow: auto;}#sk-container-id-4 input.sk-toggleable__control:checked~label.sk-toggleable__label-arrow:before {content: \"▾\";}#sk-container-id-4 div.sk-estimator input.sk-toggleable__control:checked~label.sk-toggleable__label {background-color: #d4ebff;}#sk-container-id-4 div.sk-label input.sk-toggleable__control:checked~label.sk-toggleable__label {background-color: #d4ebff;}#sk-container-id-4 input.sk-hidden--visually {border: 0;clip: rect(1px 1px 1px 1px);clip: rect(1px, 1px, 1px, 1px);height: 1px;margin: -1px;overflow: hidden;padding: 0;position: absolute;width: 1px;}#sk-container-id-4 div.sk-estimator {font-family: monospace;background-color: #f0f8ff;border: 1px dotted black;border-radius: 0.25em;box-sizing: border-box;margin-bottom: 0.5em;}#sk-container-id-4 div.sk-estimator:hover {background-color: #d4ebff;}#sk-container-id-4 div.sk-parallel-item::after {content: \"\";width: 100%;border-bottom: 1px solid gray;flex-grow: 1;}#sk-container-id-4 div.sk-label:hover label.sk-toggleable__label {background-color: #d4ebff;}#sk-container-id-4 div.sk-serial::before {content: \"\";position: absolute;border-left: 1px solid gray;box-sizing: border-box;top: 0;bottom: 0;left: 50%;z-index: 0;}#sk-container-id-4 div.sk-serial {display: flex;flex-direction: column;align-items: center;background-color: white;padding-right: 0.2em;padding-left: 0.2em;position: relative;}#sk-container-id-4 div.sk-item {position: relative;z-index: 1;}#sk-container-id-4 div.sk-parallel {display: flex;align-items: stretch;justify-content: center;background-color: white;position: relative;}#sk-container-id-4 div.sk-item::before, #sk-container-id-4 div.sk-parallel-item::before {content: \"\";position: absolute;border-left: 1px solid gray;box-sizing: border-box;top: 0;bottom: 0;left: 50%;z-index: -1;}#sk-container-id-4 div.sk-parallel-item {display: flex;flex-direction: column;z-index: 1;position: relative;background-color: white;}#sk-container-id-4 div.sk-parallel-item:first-child::after {align-self: flex-end;width: 50%;}#sk-container-id-4 div.sk-parallel-item:last-child::after {align-self: flex-start;width: 50%;}#sk-container-id-4 div.sk-parallel-item:only-child::after {width: 0;}#sk-container-id-4 div.sk-dashed-wrapped {border: 1px dashed gray;margin: 0 0.4em 0.5em 0.4em;box-sizing: border-box;padding-bottom: 0.4em;background-color: white;}#sk-container-id-4 div.sk-label label {font-family: monospace;font-weight: bold;display: inline-block;line-height: 1.2em;}#sk-container-id-4 div.sk-label-container {text-align: center;}#sk-container-id-4 div.sk-container {/* jupyter's `normalize.less` sets `[hidden] { display: none; }` but bootstrap.min.css set `[hidden] { display: none !important; }` so we also need the `!important` here to be able to override the default hidden behavior on the sphinx rendered scikit-learn.org. See: https://github.com/scikit-learn/scikit-learn/issues/21755 */display: inline-block !important;position: relative;}#sk-container-id-4 div.sk-text-repr-fallback {display: none;}</style><div id=\"sk-container-id-4\" class=\"sk-top-container\"><div class=\"sk-text-repr-fallback\"><pre>Pipeline(steps=[(&#x27;columntransformer&#x27;,\n",
       "                 ColumnTransformer(remainder=&#x27;passthrough&#x27;,\n",
       "                                   transformers=[(&#x27;ohe_area_loc&#x27;,\n",
       "                                                  OneHotEncoder(sparse_output=False),\n",
       "                                                  [0, 1])])),\n",
       "                (&#x27;standardscaler&#x27;, StandardScaler()),\n",
       "                (&#x27;linearregression&#x27;, LinearRegression())])</pre><b>In a Jupyter environment, please rerun this cell to show the HTML representation or trust the notebook. <br />On GitHub, the HTML representation is unable to render, please try loading this page with nbviewer.org.</b></div><div class=\"sk-container\" hidden><div class=\"sk-item sk-dashed-wrapped\"><div class=\"sk-label-container\"><div class=\"sk-label sk-toggleable\"><input class=\"sk-toggleable__control sk-hidden--visually\" id=\"sk-estimator-id-25\" type=\"checkbox\" ><label for=\"sk-estimator-id-25\" class=\"sk-toggleable__label sk-toggleable__label-arrow\">Pipeline</label><div class=\"sk-toggleable__content\"><pre>Pipeline(steps=[(&#x27;columntransformer&#x27;,\n",
       "                 ColumnTransformer(remainder=&#x27;passthrough&#x27;,\n",
       "                                   transformers=[(&#x27;ohe_area_loc&#x27;,\n",
       "                                                  OneHotEncoder(sparse_output=False),\n",
       "                                                  [0, 1])])),\n",
       "                (&#x27;standardscaler&#x27;, StandardScaler()),\n",
       "                (&#x27;linearregression&#x27;, LinearRegression())])</pre></div></div></div><div class=\"sk-serial\"><div class=\"sk-item sk-dashed-wrapped\"><div class=\"sk-label-container\"><div class=\"sk-label sk-toggleable\"><input class=\"sk-toggleable__control sk-hidden--visually\" id=\"sk-estimator-id-26\" type=\"checkbox\" ><label for=\"sk-estimator-id-26\" class=\"sk-toggleable__label sk-toggleable__label-arrow\">columntransformer: ColumnTransformer</label><div class=\"sk-toggleable__content\"><pre>ColumnTransformer(remainder=&#x27;passthrough&#x27;,\n",
       "                  transformers=[(&#x27;ohe_area_loc&#x27;,\n",
       "                                 OneHotEncoder(sparse_output=False), [0, 1])])</pre></div></div></div><div class=\"sk-parallel\"><div class=\"sk-parallel-item\"><div class=\"sk-item\"><div class=\"sk-label-container\"><div class=\"sk-label sk-toggleable\"><input class=\"sk-toggleable__control sk-hidden--visually\" id=\"sk-estimator-id-27\" type=\"checkbox\" ><label for=\"sk-estimator-id-27\" class=\"sk-toggleable__label sk-toggleable__label-arrow\">ohe_area_loc</label><div class=\"sk-toggleable__content\"><pre>[0, 1]</pre></div></div></div><div class=\"sk-serial\"><div class=\"sk-item\"><div class=\"sk-estimator sk-toggleable\"><input class=\"sk-toggleable__control sk-hidden--visually\" id=\"sk-estimator-id-28\" type=\"checkbox\" ><label for=\"sk-estimator-id-28\" class=\"sk-toggleable__label sk-toggleable__label-arrow\">OneHotEncoder</label><div class=\"sk-toggleable__content\"><pre>OneHotEncoder(sparse_output=False)</pre></div></div></div></div></div></div><div class=\"sk-parallel-item\"><div class=\"sk-item\"><div class=\"sk-label-container\"><div class=\"sk-label sk-toggleable\"><input class=\"sk-toggleable__control sk-hidden--visually\" id=\"sk-estimator-id-29\" type=\"checkbox\" ><label for=\"sk-estimator-id-29\" class=\"sk-toggleable__label sk-toggleable__label-arrow\">remainder</label><div class=\"sk-toggleable__content\"><pre>[&#x27;total_sqft&#x27;, &#x27;bath&#x27;, &#x27;balcony&#x27;, &#x27;bhk&#x27;]</pre></div></div></div><div class=\"sk-serial\"><div class=\"sk-item\"><div class=\"sk-estimator sk-toggleable\"><input class=\"sk-toggleable__control sk-hidden--visually\" id=\"sk-estimator-id-30\" type=\"checkbox\" ><label for=\"sk-estimator-id-30\" class=\"sk-toggleable__label sk-toggleable__label-arrow\">passthrough</label><div class=\"sk-toggleable__content\"><pre>passthrough</pre></div></div></div></div></div></div></div></div><div class=\"sk-item\"><div class=\"sk-estimator sk-toggleable\"><input class=\"sk-toggleable__control sk-hidden--visually\" id=\"sk-estimator-id-31\" type=\"checkbox\" ><label for=\"sk-estimator-id-31\" class=\"sk-toggleable__label sk-toggleable__label-arrow\">StandardScaler</label><div class=\"sk-toggleable__content\"><pre>StandardScaler()</pre></div></div></div><div class=\"sk-item\"><div class=\"sk-estimator sk-toggleable\"><input class=\"sk-toggleable__control sk-hidden--visually\" id=\"sk-estimator-id-32\" type=\"checkbox\" ><label for=\"sk-estimator-id-32\" class=\"sk-toggleable__label sk-toggleable__label-arrow\">LinearRegression</label><div class=\"sk-toggleable__content\"><pre>LinearRegression()</pre></div></div></div></div></div></div></div>"
      ],
      "text/plain": [
       "Pipeline(steps=[('columntransformer',\n",
       "                 ColumnTransformer(remainder='passthrough',\n",
       "                                   transformers=[('ohe_area_loc',\n",
       "                                                  OneHotEncoder(sparse_output=False),\n",
       "                                                  [0, 1])])),\n",
       "                ('standardscaler', StandardScaler()),\n",
       "                ('linearregression', LinearRegression())])"
      ]
     },
     "execution_count": 82,
     "metadata": {},
     "output_type": "execute_result"
    }
   ],
   "source": [
    "pipe.fit(X_train,Y_train)"
   ]
  },
  {
   "cell_type": "code",
   "execution_count": 83,
   "id": "db3ac5d3-c8e6-4150-964a-672e5e687c64",
   "metadata": {},
   "outputs": [
    {
     "data": {
      "text/plain": [
       "array([ 49.25710347,  62.14577535,  74.80397847, ...,  18.17897847,\n",
       "       514.23073629,  61.4231191 ])"
      ]
     },
     "execution_count": 83,
     "metadata": {},
     "output_type": "execute_result"
    }
   ],
   "source": [
    "pipe.predict(X_test)"
   ]
  },
  {
   "cell_type": "code",
   "execution_count": 84,
   "id": "43b6fa07-5e29-49a4-9d89-e4c172b9d2d3",
   "metadata": {},
   "outputs": [
    {
     "data": {
      "text/plain": [
       "array([ 49.25710347,  62.14577535,  74.80397847, ...,  18.17897847,\n",
       "       514.23073629,  61.4231191 ])"
      ]
     },
     "execution_count": 84,
     "metadata": {},
     "output_type": "execute_result"
    }
   ],
   "source": [
    "pred"
   ]
  },
  {
   "cell_type": "code",
   "execution_count": 85,
   "id": "dc16a3bd-d2d0-42e8-8ac2-9921a202fbbc",
   "metadata": {},
   "outputs": [
    {
     "data": {
      "text/plain": [
       "0.7748079281499975"
      ]
     },
     "execution_count": 85,
     "metadata": {},
     "output_type": "execute_result"
    }
   ],
   "source": [
    "r2_score(Y_test,pred)"
   ]
  },
  {
   "cell_type": "code",
   "execution_count": null,
   "id": "0b3815f3-824d-4384-93e0-b50cfebbd338",
   "metadata": {},
   "outputs": [],
   "source": []
  }
 ],
 "metadata": {
  "kernelspec": {
   "display_name": "Python 3 (ipykernel)",
   "language": "python",
   "name": "python3"
  },
  "language_info": {
   "codemirror_mode": {
    "name": "ipython",
    "version": 3
   },
   "file_extension": ".py",
   "mimetype": "text/x-python",
   "name": "python",
   "nbconvert_exporter": "python",
   "pygments_lexer": "ipython3",
   "version": "3.11.7"
  }
 },
 "nbformat": 4,
 "nbformat_minor": 5
}
